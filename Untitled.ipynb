{
 "cells": [
  {
   "cell_type": "code",
   "execution_count": 38,
   "metadata": {},
   "outputs": [],
   "source": [
    "import tweepy\n",
    "import re\n",
    "import pandas as pd\n",
    "import requests\n",
    "import json\n",
    "from textblob import TextBlob"
   ]
  },
  {
   "cell_type": "code",
   "execution_count": 8,
   "metadata": {},
   "outputs": [],
   "source": [
    "# Authentificate using tweeter dev API keys"
   ]
  },
  {
   "cell_type": "code",
   "execution_count": 9,
   "metadata": {},
   "outputs": [
    {
     "data": {
      "application/javascript": [
       "var rate = 0;\n",
       "// apply setting to  all current CodeMirror instances\n",
       "IPython.notebook.get_cells().map(\n",
       "    function(c) {  return c.code_mirror.options.cursorBlinkRate=rate;  }\n",
       ");\n",
       "\n",
       "// make sure new CodeMirror instance also use this setting\n",
       "CodeMirror.defaults.cursorBlinkRate=rate;\n"
      ],
      "text/plain": [
       "<IPython.core.display.Javascript object>"
      ]
     },
     "metadata": {},
     "output_type": "display_data"
    }
   ],
   "source": [
    "%%javascript\n",
    "var rate = 0;\n",
    "// apply setting to  all current CodeMirror instances\n",
    "IPython.notebook.get_cells().map(\n",
    "    function(c) {  return c.code_mirror.options.cursorBlinkRate=rate;  }\n",
    ");\n",
    "\n",
    "// make sure new CodeMirror instance also use this setting\n",
    "CodeMirror.defaults.cursorBlinkRate=rate;"
   ]
  },
  {
   "cell_type": "code",
   "execution_count": 10,
   "metadata": {},
   "outputs": [],
   "source": [
    "keys = pd.read_csv(\"keys.csv\", index_col = \"Type\")\n",
    "\n",
    "#consumer_key = keys.loc[\"API_key\", \"Value\"]\n",
    "#consumer_secret = keys.loc[\"API Key Secret\", \"Value\"]\n",
    "bearer_token = keys.loc[\"Bearer Token\", \"Value\"]\n",
    "\n",
    "#auth = tweepy.AppAuthHandler(consumer_key, consumer_secret)\n",
    "#api = tweepy.API(auth)"
   ]
  },
  {
   "cell_type": "code",
   "execution_count": 50,
   "metadata": {},
   "outputs": [
    {
     "name": "stdout",
     "output_type": "stream",
     "text": [
      "                                                Text  \\\n",
      "0                    @ShirKi Yes. Can you pls DM me?   \n",
      "1  Do you know any professors that are teaching (...   \n",
      "2  Excited to kickoff our livestreams for 2022 📺\\...   \n",
      "3              Controversial https://t.co/r9iwwVHaGl   \n",
      "4                                  @ahmetb Welcome 🙏   \n",
      "5  Preparing my schedule of office hours for stud...   \n",
      "\n",
      "                                         Annotations  \n",
      "0                                                 []  \n",
      "1                                                 []  \n",
      "2  [{'domain': {'id': '46', 'name': 'Brand Catego...  \n",
      "3                                                 []  \n",
      "4                                                 []  \n",
      "5                                                 []  \n"
     ]
    }
   ],
   "source": [
    "def fetch_tweets(max_results = 100):\n",
    "    client = tweepy.Client(bearer_token = bearer_token)\n",
    "\n",
    "    # Replace with your own search query\n",
    "    query = 'from:suhemparack -is:retweet'\n",
    "\n",
    "    tweets = client.search_recent_tweets(query=query, tweet_fields=['context_annotations'], max_results = max_results)\n",
    "    \n",
    "    array = []\n",
    "    \n",
    "    for tweet in tweets.data:\n",
    "        array.append([tweet.text, tweet.context_annotations])\n",
    "    \n",
    "    df = pd.DataFrame(array, columns = [\"Text\", \"Annotations\"])\n",
    "    \n",
    "    return df\n",
    "\n",
    "tweets = fetch_tweets(10)\n",
    "print(tweets)"
   ]
  },
  {
   "cell_type": "markdown",
   "metadata": {},
   "source": [
    "As seen above, tweets can contain usernames (starting with @) and links which are useless for sentiment analysis. Therefore we need to perform some cleaning before retrieving sentiments. We also wish to remove any punctuation and parenthesis )(?.;"
   ]
  },
  {
   "cell_type": "code",
   "execution_count": 56,
   "metadata": {},
   "outputs": [
    {
     "data": {
      "text/html": [
       "<div>\n",
       "<style scoped>\n",
       "    .dataframe tbody tr th:only-of-type {\n",
       "        vertical-align: middle;\n",
       "    }\n",
       "\n",
       "    .dataframe tbody tr th {\n",
       "        vertical-align: top;\n",
       "    }\n",
       "\n",
       "    .dataframe thead th {\n",
       "        text-align: right;\n",
       "    }\n",
       "</style>\n",
       "<table border=\"1\" class=\"dataframe\">\n",
       "  <thead>\n",
       "    <tr style=\"text-align: right;\">\n",
       "      <th></th>\n",
       "      <th>Text</th>\n",
       "      <th>Annotations</th>\n",
       "    </tr>\n",
       "  </thead>\n",
       "  <tbody>\n",
       "    <tr>\n",
       "      <th>0</th>\n",
       "      <td>Yes Can you pls DM me</td>\n",
       "      <td>[]</td>\n",
       "    </tr>\n",
       "    <tr>\n",
       "      <th>1</th>\n",
       "      <td>Do you know any professors that are teaching o...</td>\n",
       "      <td>[]</td>\n",
       "    </tr>\n",
       "    <tr>\n",
       "      <th>2</th>\n",
       "      <td>Excited to kickoff our livestreams for 2022 Lo...</td>\n",
       "      <td>[{'domain': {'id': '46', 'name': 'Brand Catego...</td>\n",
       "    </tr>\n",
       "    <tr>\n",
       "      <th>3</th>\n",
       "      <td>Controversial</td>\n",
       "      <td>[]</td>\n",
       "    </tr>\n",
       "    <tr>\n",
       "      <th>4</th>\n",
       "      <td>Welcome</td>\n",
       "      <td>[]</td>\n",
       "    </tr>\n",
       "  </tbody>\n",
       "</table>\n",
       "</div>"
      ],
      "text/plain": [
       "                                                Text  \\\n",
       "0                              Yes Can you pls DM me   \n",
       "1  Do you know any professors that are teaching o...   \n",
       "2  Excited to kickoff our livestreams for 2022 Lo...   \n",
       "3                                     Controversial    \n",
       "4                                           Welcome    \n",
       "\n",
       "                                         Annotations  \n",
       "0                                                 []  \n",
       "1                                                 []  \n",
       "2  [{'domain': {'id': '46', 'name': 'Brand Catego...  \n",
       "3                                                 []  \n",
       "4                                                 []  "
      ]
     },
     "execution_count": 56,
     "metadata": {},
     "output_type": "execute_result"
    }
   ],
   "source": [
    "def clean_tweet(tweet):\n",
    "    # remove links\n",
    "    tweet = re.sub(r\"https://\\S+|http://\\S\", \"\", tweet)\n",
    "    \n",
    "    # remove user tags\n",
    "    tweet = re.sub(r\"@\\S+\", \"\", tweet)\n",
    "    \n",
    "    # remove any punctuation\n",
    "    tweet = re.sub(r'[^\\w\\s]', \"\", tweet)\n",
    "    \n",
    "    return tweet\n",
    "\n",
    "cleaned_tweets = tweets\n",
    "cleaned_tweets[\"Text\"] = tweets[\"Text\"].apply(lambda x: clean_tweet(x))\n",
    "tweets.head()"
   ]
  },
  {
   "cell_type": "code",
   "execution_count": 28,
   "metadata": {},
   "outputs": [],
   "source": [
    "def classify(polarity):\n",
    "    if abs(polarity) < 0.1:\n",
    "        return \"Undetermined\"\n",
    "    elif polarity < 0:\n",
    "        return \"Negative\"\n",
    "    elif polarity > 0:\n",
    "        return \"Positive\""
   ]
  },
  {
   "cell_type": "code",
   "execution_count": 72,
   "metadata": {},
   "outputs": [
    {
     "name": "stdout",
     "output_type": "stream",
     "text": [
      "                                                Text  \\\n",
      "0                              Yes Can you pls DM me   \n",
      "1  Do you know any professors that are teaching o...   \n",
      "2  Excited to kickoff our livestreams for 2022 Lo...   \n",
      "3                                     Controversial    \n",
      "4                                           Welcome    \n",
      "\n",
      "                                         Annotations      Polarity  \n",
      "0                                                 []  Undetermined  \n",
      "1                                                 []      Positive  \n",
      "2  [{'domain': {'id': '46', 'name': 'Brand Catego...      Positive  \n",
      "3                                                 []      Positive  \n",
      "4                                                 []      Positive  \n"
     ]
    }
   ],
   "source": [
    "def classify_tweets(tweets):\n",
    "    output = tweets\n",
    "    for index, tweet in tweets.iterrows():\n",
    "        # get polarity and subjectivity of the tweet\n",
    "        text = tweet[\"Text\"]\n",
    "        sentiment = TextBlob(text).sentiment\n",
    "        polarity, subjectivity = sentiment.polarity, sentiment.subjectivity\n",
    "        \n",
    "        # classify tweet as negative / neutral / positive\n",
    "        output.loc[index][\"Polarity\"] = classify(polarity)\n",
    "    return output\n",
    "\n",
    "    \n",
    "output = classify_tweets(cleaned_tweets)\n",
    "\n",
    "print(output.head())"
   ]
  },
  {
   "cell_type": "code",
   "execution_count": 91,
   "metadata": {},
   "outputs": [
    {
     "ename": "IndentationError",
     "evalue": "unindent does not match any outer indentation level (<tokenize>, line 16)",
     "output_type": "error",
     "traceback": [
      "\u001b[1;36m  File \u001b[1;32m\"<tokenize>\"\u001b[1;36m, line \u001b[1;32m16\u001b[0m\n\u001b[1;33m    nb_tweets = len(cleaned_tweets)\u001b[0m\n\u001b[1;37m    ^\u001b[0m\n\u001b[1;31mIndentationError\u001b[0m\u001b[1;31m:\u001b[0m unindent does not match any outer indentation level\n"
     ]
    }
   ],
   "source": [
    "# TODO exclude messages from the companie itself\n",
    "def print_stats(data):\n",
    "        undetermined_nb = 0\n",
    "        positive_nb = 0\n",
    "        negative_nb = 0\n",
    "        \n",
    "        for index, row in data.iterrows():\n",
    "            polarity = row[\"Polarity\"]\n",
    "            if polarity == \"Undetermined\":\n",
    "                undetermined_nb += 1\n",
    "            elif polarity == \"Positive\":\n",
    "                positive_nb += 1\n",
    "            elif polarity == \"Negative\":\n",
    "                negative_nb += 1\n",
    "                \n",
    "    nb_tweets = len(cleaned_tweets)\n",
    "    print(f\"positive rate = {positive_nb / nb_tweets} \\t negative rate = {negative_nb / nb_tweets} \"\n",
    "      +f\" \\tundetermined rate = {undetermined_nb / nb_tweets}\")\n",
    "    \n",
    "undetermined_nb, positive_nb, negative_nb = get_count(output)"
   ]
  },
  {
   "cell_type": "code",
   "execution_count": null,
   "metadata": {},
   "outputs": [],
   "source": []
  }
 ],
 "metadata": {
  "kernelspec": {
   "display_name": "Python 3",
   "language": "python",
   "name": "python3"
  },
  "language_info": {
   "codemirror_mode": {
    "name": "ipython",
    "version": 3
   },
   "file_extension": ".py",
   "mimetype": "text/x-python",
   "name": "python",
   "nbconvert_exporter": "python",
   "pygments_lexer": "ipython3",
   "version": "3.8.3"
  }
 },
 "nbformat": 4,
 "nbformat_minor": 4
}
