{
 "cells": [
  {
   "cell_type": "code",
   "execution_count": 34,
   "metadata": {},
   "outputs": [],
   "source": [
    "import tweepy\n",
    "import pandas as pd\n",
    "import requests\n",
    "import json"
   ]
  },
  {
   "cell_type": "code",
   "execution_count": null,
   "metadata": {},
   "outputs": [],
   "source": [
    "# Authentificate using tweeter dev API keys"
   ]
  },
  {
   "cell_type": "code",
   "execution_count": 2,
   "metadata": {},
   "outputs": [
    {
     "data": {
      "application/javascript": [
       "var rate = 0;\n",
       "// apply setting to  all current CodeMirror instances\n",
       "IPython.notebook.get_cells().map(\n",
       "    function(c) {  return c.code_mirror.options.cursorBlinkRate=rate;  }\n",
       ");\n",
       "\n",
       "// make sure new CodeMirror instance also use this setting\n",
       "CodeMirror.defaults.cursorBlinkRate=rate;\n"
      ],
      "text/plain": [
       "<IPython.core.display.Javascript object>"
      ]
     },
     "metadata": {},
     "output_type": "display_data"
    }
   ],
   "source": [
    "%%javascript\n",
    "var rate = 0;\n",
    "// apply setting to  all current CodeMirror instances\n",
    "IPython.notebook.get_cells().map(\n",
    "    function(c) {  return c.code_mirror.options.cursorBlinkRate=rate;  }\n",
    ");\n",
    "\n",
    "// make sure new CodeMirror instance also use this setting\n",
    "CodeMirror.defaults.cursorBlinkRate=rate;"
   ]
  },
  {
   "cell_type": "code",
   "execution_count": 15,
   "metadata": {},
   "outputs": [],
   "source": [
    "keys = pd.read_csv(\"keys.csv\", index_col = \"Type\")\n",
    "\n",
    "consumer_key = keys.loc[\"API_key\", \"Value\"]\n",
    "consumer_secret = keys.loc[\"API Key Secret\", \"Value\"]\n",
    "bearer_token = keys.loc[\"Bearer Token\", \"Value\"]\n",
    "\n",
    "auth = tweepy.AppAuthHandler(consumer_key, consumer_secret)\n",
    "api = tweepy.API(auth)"
   ]
  },
  {
   "cell_type": "code",
   "execution_count": 46,
   "metadata": {},
   "outputs": [
    {
     "name": "stdout",
     "output_type": "stream",
     "text": [
      "2022-01-10 18:40:42+00:00\n",
      "Excited to kickoff our livestreams for 2022 📺\n",
      "\n",
      "Looking forward to hosting @thatmchen to discuss best practices for curating datasets (with millions of Tweet IDs) for reproducible research using the #TwitterAPI v2 https://t.co/XZgE30m9nv\n",
      "\n",
      "2022-01-08 02:04:00+00:00\n",
      "Controversial https://t.co/r9iwwVHaGl\n",
      "\n",
      "2022-01-07 19:18:28+00:00\n",
      "@ahmetb Welcome 🙏\n",
      "\n",
      "2022-01-06 18:16:02+00:00\n",
      "Preparing my schedule of office hours for students and researchers to answer technical questions about using the #TwitterAPI v2. How often should I host these?\n",
      "\n",
      "2022-01-05 19:11:18+00:00\n",
      "Measuring the 'success' of #DevRel programs can be tricky sometimes but there is no better &amp; more rewarding feeling than seeing fellow developers benefit directly from your content. It makes all the time and effort you put in to producing the content so worth it 😇 https://t.co/6pB5qNQNKi\n",
      "\n",
      "2022-01-05 18:03:45+00:00\n",
      "The view from Ain Dubai was 💯 @AinDXBOfficial https://t.co/bZZkGEgoAk\n",
      "\n",
      "2022-01-05 00:28:28+00:00\n",
      "@kettanaito @alex__luong @Twitter Can you pls share a screenshot of your oauth settings page https://t.co/IOwhR2GVdV\n",
      "\n",
      "2022-01-04 21:36:37+00:00\n",
      "@alex__luong @kettanaito @Twitter https://t.co/SjizST2q7g\n",
      "\n",
      "2022-01-04 18:20:23+00:00\n",
      "@sharpstef Congrats!\n",
      "\n",
      "2022-01-04 17:05:15+00:00\n",
      "So this video tutorial on using the #TwitterAPI v2 in Python with Tweepy already has a couple thousand views in ~2 weeks\n",
      "\n",
      "Sounds like there is a need for more video tutorials. Please suggest other topics or programming languages that I should cover next https://t.co/2FsgYoXhQo\n",
      "\n"
     ]
    }
   ],
   "source": [
    "#timeline = api.home_timeline()\n",
    "#for tweet in timeline:\n",
    "#    print(tweet)\n",
    "\n",
    "client = tweepy.Client(bearer_token=bearer_token)\n",
    "\n",
    "# Replace with your own search query\n",
    "query = 'from:suhemparack -is:retweet'\n",
    "\n",
    "tweets = client.search_recent_tweets(query=query, tweet_fields=['context_annotations', 'created_at'], max_results=100)\n",
    "\n",
    "for tweet in tweets.data:\n",
    "    print(tweet.created_at)\n",
    "    print(tweet.text)\n",
    "    print(\"\")"
   ]
  },
  {
   "cell_type": "code",
   "execution_count": null,
   "metadata": {},
   "outputs": [],
   "source": []
  }
 ],
 "metadata": {
  "kernelspec": {
   "display_name": "Python 3",
   "language": "python",
   "name": "python3"
  },
  "language_info": {
   "codemirror_mode": {
    "name": "ipython",
    "version": 3
   },
   "file_extension": ".py",
   "mimetype": "text/x-python",
   "name": "python",
   "nbconvert_exporter": "python",
   "pygments_lexer": "ipython3",
   "version": "3.8.3"
  }
 },
 "nbformat": 4,
 "nbformat_minor": 4
}
