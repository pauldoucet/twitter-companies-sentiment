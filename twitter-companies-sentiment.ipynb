{
 "cells": [
  {
   "cell_type": "markdown",
   "metadata": {},
   "source": [
    "# Companies sentiment analysis on Twitter\n",
    "We can leverage messages posted on Twitter and other social medias in order to know if there is currently a negative or positive sentiment over a specific subject. Sentiment analysis over a given subject can be used in various domains including trading, public opinion about a policy or a companie.\n",
    "\n",
    "This mini-project aims to analyse global sentiment about a given companie or subject on Twitter using twitter library tweepy and language processing libraries nltk and textblob.\n",
    "Nltk and textblob provide pre-trained models for sentiment analysis and diverse language tools from sentence tokenization to stemming."
   ]
  },
  {
   "cell_type": "code",
   "execution_count": 2,
   "metadata": {},
   "outputs": [],
   "source": [
    "import tweepy\n",
    "import re\n",
    "import pandas as pd\n",
    "import requests\n",
    "import json\n",
    "from textblob import TextBlob\n",
    "import nltk\n",
    "from googletrans import Translator\n",
    "from nltk.stem import PorterStemmer\n",
    "from nltk.tokenize import word_tokenize\n",
    "import matplotlib.pyplot as plt\n",
    "\n",
    "import warnings\n",
    "warnings.filterwarnings(\"ignore\")"
   ]
  },
  {
   "cell_type": "code",
   "execution_count": 3,
   "metadata": {},
   "outputs": [
    {
     "data": {
      "application/javascript": [
       "var rate = 0;\n",
       "// apply setting to  all current CodeMirror instances\n",
       "IPython.notebook.get_cells().map(\n",
       "    function(c) {  return c.code_mirror.options.cursorBlinkRate=rate;  }\n",
       ");\n",
       "\n",
       "// make sure new CodeMirror instance also use this setting\n",
       "CodeMirror.defaults.cursorBlinkRate=rate;\n"
      ],
      "text/plain": [
       "<IPython.core.display.Javascript object>"
      ]
     },
     "metadata": {},
     "output_type": "display_data"
    }
   ],
   "source": [
    "%%javascript\n",
    "var rate = 0;\n",
    "// apply setting to  all current CodeMirror instances\n",
    "IPython.notebook.get_cells().map(\n",
    "    function(c) {  return c.code_mirror.options.cursorBlinkRate=rate;  }\n",
    ");\n",
    "\n",
    "// make sure new CodeMirror instance also use this setting\n",
    "CodeMirror.defaults.cursorBlinkRate=rate;"
   ]
  },
  {
   "cell_type": "markdown",
   "metadata": {},
   "source": [
    "## 1 - Data loading and cleaning\n",
    "\n",
    "#### Fetching the tweets\n",
    "We connect to the twitter API with a `bearer_token` and fetch the tweets, their context_annotations and the author_ids. Notice that in the query we exclude the retweets (`-is:retweet`) and filter to get only tweets in english (`lang:en`).\n",
    "\n",
    "Then each tweets is put in a pandas `DataFrame`"
   ]
  },
  {
   "cell_type": "code",
   "execution_count": 4,
   "metadata": {},
   "outputs": [],
   "source": [
    "# Read the bearer_token in local file\n",
    "keys = pd.read_csv(\"keys.csv\", index_col = \"Type\")\n",
    "bearer_token = keys.loc[\"Bearer Token\", \"Value\"]\n",
    "\n",
    "def fetch_tweets(max_results = 100, companie = \"Boeing\"):\n",
    "    \"\"\"\n",
    "        pull recent tweets about a given subject\n",
    "        \n",
    "        max_results: maximum of tweets to pull\n",
    "        companie: subject of the tweets to pull\n",
    "    \"\"\"\n",
    "    # Connect to the API with the bearer token\n",
    "    client = tweepy.Client(bearer_token = bearer_token)\n",
    "\n",
    "    # Query only tweets in english and exclude retweets\n",
    "    companie = companie.lower()\n",
    "    query = companie + ' -is:retweet lang:en'\n",
    "\n",
    "    # pull the tweets\n",
    "    tweets = client.search_recent_tweets(query=query, tweet_fields=['context_annotations', 'author_id'], max_results = max_results)\n",
    "    \n",
    "    # set the tweets in an array\n",
    "    array = []\n",
    "    for tweet in tweets.data:\n",
    "        array.append([tweet.text, str(tweet.author_id), tweet.context_annotations])\n",
    "    \n",
    "    # convert the tweet array to a panda dataframe\n",
    "    df = pd.DataFrame(array, columns = [\"Text\", \"Author_id\", \"Annotations\"])\n",
    "    \n",
    "    return df\n",
    "\n",
    "# fetch a maximum of 100 tweets about the subject: Boeing\n",
    "tweets = fetch_tweets(100, \"Boeing\")"
   ]
  },
  {
   "cell_type": "markdown",
   "metadata": {},
   "source": [
    "#### Data cleaning\n",
    "\n",
    "As seen above, tweets can contain usernames (starting with @) and links which are useless for sentiment analysis. Therefore we need to perform some cleaning before retrieving sentiments. We also wish to remove any punctuation and parenthesis )(?.;"
   ]
  },
  {
   "cell_type": "code",
   "execution_count": 5,
   "metadata": {},
   "outputs": [
    {
     "data": {
      "text/html": [
       "<div>\n",
       "<style scoped>\n",
       "    .dataframe tbody tr th:only-of-type {\n",
       "        vertical-align: middle;\n",
       "    }\n",
       "\n",
       "    .dataframe tbody tr th {\n",
       "        vertical-align: top;\n",
       "    }\n",
       "\n",
       "    .dataframe thead th {\n",
       "        text-align: right;\n",
       "    }\n",
       "</style>\n",
       "<table border=\"1\" class=\"dataframe\">\n",
       "  <thead>\n",
       "    <tr style=\"text-align: right;\">\n",
       "      <th></th>\n",
       "      <th>Text</th>\n",
       "      <th>Author_id</th>\n",
       "      <th>Annotations</th>\n",
       "    </tr>\n",
       "  </thead>\n",
       "  <tbody>\n",
       "    <tr>\n",
       "      <th>0</th>\n",
       "      <td>small number of boeing staff in chinas tianjin...</td>\n",
       "      <td>2344114254</td>\n",
       "      <td>[{'domain': {'id': '46', 'name': 'Brand Catego...</td>\n",
       "    </tr>\n",
       "    <tr>\n",
       "      <th>1</th>\n",
       "      <td>ual52 n672ua boeing 767 322erw united airlines...</td>\n",
       "      <td>1306316999585394698</td>\n",
       "      <td>[{'domain': {'id': '45', 'name': 'Brand Vertic...</td>\n",
       "    </tr>\n",
       "    <tr>\n",
       "      <th>2</th>\n",
       "      <td>small number of boeing staff in chinas tianjin...</td>\n",
       "      <td>1333283589291601923</td>\n",
       "      <td>[{'domain': {'id': '47', 'name': 'Brand', 'des...</td>\n",
       "    </tr>\n",
       "    <tr>\n",
       "      <th>3</th>\n",
       "      <td>\\ng-bmra \\ndhk2134 \\ndhl air uk \\nunited kingd...</td>\n",
       "      <td>1404071707296534537</td>\n",
       "      <td>[{'domain': {'id': '3', 'name': 'TV Shows', 'd...</td>\n",
       "    </tr>\n",
       "    <tr>\n",
       "      <th>4</th>\n",
       "      <td>foreign military contact in london fir lagr834...</td>\n",
       "      <td>1147646662657097728</td>\n",
       "      <td>[{'domain': {'id': '47', 'name': 'Brand', 'des...</td>\n",
       "    </tr>\n",
       "  </tbody>\n",
       "</table>\n",
       "</div>"
      ],
      "text/plain": [
       "                                                Text            Author_id  \\\n",
       "0  small number of boeing staff in chinas tianjin...           2344114254   \n",
       "1  ual52 n672ua boeing 767 322erw united airlines...  1306316999585394698   \n",
       "2  small number of boeing staff in chinas tianjin...  1333283589291601923   \n",
       "3  \\ng-bmra \\ndhk2134 \\ndhl air uk \\nunited kingd...  1404071707296534537   \n",
       "4  foreign military contact in london fir lagr834...  1147646662657097728   \n",
       "\n",
       "                                         Annotations  \n",
       "0  [{'domain': {'id': '46', 'name': 'Brand Catego...  \n",
       "1  [{'domain': {'id': '45', 'name': 'Brand Vertic...  \n",
       "2  [{'domain': {'id': '47', 'name': 'Brand', 'des...  \n",
       "3  [{'domain': {'id': '3', 'name': 'TV Shows', 'd...  \n",
       "4  [{'domain': {'id': '47', 'name': 'Brand', 'des...  "
      ]
     },
     "execution_count": 5,
     "metadata": {},
     "output_type": "execute_result"
    }
   ],
   "source": [
    "def clean_tweet(tweet):\n",
    "    \"\"\"\n",
    "    clean a single tweet text (set to lower case, remove links, remove user tags and punctuation)\n",
    "    \n",
    "    tweet: tweet to clean\n",
    "    \"\"\"\n",
    "    # lower case\n",
    "    tweet = tweet.lower()\n",
    "    \n",
    "    # remove links\n",
    "    tweet = re.sub(r\"https://\\S+|http://\\S\", \"\", tweet)\n",
    "    \n",
    "    # remove user tags\n",
    "    tweet = re.sub(r\"@\\S+\", \"\", tweet)\n",
    "    \n",
    "    # remove any punctuation\n",
    "    tweet = re.sub(r'[^A-Za-z0-9\\s-]', \"\", tweet)\n",
    "    \n",
    "    return tweet\n",
    "\n",
    "def clean_tweets(tweets):\n",
    "    \"\"\"\n",
    "    copies the dataframe provided and clean the text of every tweet in a new panda dataframe\n",
    "    \n",
    "    tweets: panda dataframe where the text need to be cleaned\n",
    "        (require Text column)\n",
    "    \"\"\"\n",
    "    cleaned_tweets = tweets.copy()\n",
    "    cleaned_tweets[\"Text\"] = tweets[\"Text\"].apply(lambda x: clean_tweet(x))\n",
    "    return cleaned_tweets\n",
    "\n",
    "# cleans the tweets\n",
    "cleaned_tweets = clean_tweets(tweets)\n",
    "cleaned_tweets.head()"
   ]
  },
  {
   "cell_type": "markdown",
   "metadata": {},
   "source": [
    "## Model predictions (classifying sentiment of tweets)\n",
    "#### Polarity & Subjectivity\n",
    "The already optimized model provided by the TextBlob library can extract the polarity and the subjectivity of a given text (respectively in $[-1, 1]$ and $[0, 1]$).\n",
    "The polarity is the orientation of the sentiment of a text where -1 represents negative sentiment and 1 a positive sentiment, 0 is either neutral or undetermined by the model.\n",
    "The subjectivity quantifies the proportion of facts or personal sentiment in a text, the higher the subjectivity, the higher the proportion of personal sentiments.\n",
    "\\\n",
    "\\\n",
    "\\\n",
    "For our mini-project we're only interested in sentiment analysis, therefore we provide the `classify` method which will classify a polarity of $0\\pm0.01$ as Untertermined, a polarity less than -0.01 as negative and a polarity more than 0.01 as positive."
   ]
  },
  {
   "cell_type": "code",
   "execution_count": 6,
   "metadata": {},
   "outputs": [],
   "source": [
    "def classify(polarity):\n",
    "    if abs(polarity) < 0.01:\n",
    "        return \"Undetermined\"\n",
    "    elif polarity < 0:\n",
    "        return \"Negative\"\n",
    "    elif polarity > 0:\n",
    "        return \"Positive\""
   ]
  },
  {
   "cell_type": "markdown",
   "metadata": {},
   "source": [
    "#### Tweet classification\n",
    "For each row in the pandas `DataFrame` we classify the tweets text as positive, negative or undetermined."
   ]
  },
  {
   "cell_type": "code",
   "execution_count": 7,
   "metadata": {},
   "outputs": [
    {
     "data": {
      "text/html": [
       "<div>\n",
       "<style scoped>\n",
       "    .dataframe tbody tr th:only-of-type {\n",
       "        vertical-align: middle;\n",
       "    }\n",
       "\n",
       "    .dataframe tbody tr th {\n",
       "        vertical-align: top;\n",
       "    }\n",
       "\n",
       "    .dataframe thead th {\n",
       "        text-align: right;\n",
       "    }\n",
       "</style>\n",
       "<table border=\"1\" class=\"dataframe\">\n",
       "  <thead>\n",
       "    <tr style=\"text-align: right;\">\n",
       "      <th></th>\n",
       "      <th>Text</th>\n",
       "      <th>Author_id</th>\n",
       "      <th>Annotations</th>\n",
       "      <th>Polarity</th>\n",
       "    </tr>\n",
       "  </thead>\n",
       "  <tbody>\n",
       "    <tr>\n",
       "      <th>0</th>\n",
       "      <td>small number of boeing staff in chinas tianjin...</td>\n",
       "      <td>2344114254</td>\n",
       "      <td>[{'domain': {'id': '46', 'name': 'Brand Catego...</td>\n",
       "      <td>Negative</td>\n",
       "    </tr>\n",
       "    <tr>\n",
       "      <th>1</th>\n",
       "      <td>ual52 n672ua boeing 767 322erw united airlines...</td>\n",
       "      <td>1306316999585394698</td>\n",
       "      <td>[{'domain': {'id': '45', 'name': 'Brand Vertic...</td>\n",
       "      <td>Undetermined</td>\n",
       "    </tr>\n",
       "    <tr>\n",
       "      <th>2</th>\n",
       "      <td>small number of boeing staff in chinas tianjin...</td>\n",
       "      <td>1333283589291601923</td>\n",
       "      <td>[{'domain': {'id': '47', 'name': 'Brand', 'des...</td>\n",
       "      <td>Negative</td>\n",
       "    </tr>\n",
       "    <tr>\n",
       "      <th>3</th>\n",
       "      <td>\\ng-bmra \\ndhk2134 \\ndhl air uk \\nunited kingd...</td>\n",
       "      <td>1404071707296534537</td>\n",
       "      <td>[{'domain': {'id': '3', 'name': 'TV Shows', 'd...</td>\n",
       "      <td>Undetermined</td>\n",
       "    </tr>\n",
       "    <tr>\n",
       "      <th>4</th>\n",
       "      <td>foreign military contact in london fir lagr834...</td>\n",
       "      <td>1147646662657097728</td>\n",
       "      <td>[{'domain': {'id': '47', 'name': 'Brand', 'des...</td>\n",
       "      <td>Negative</td>\n",
       "    </tr>\n",
       "  </tbody>\n",
       "</table>\n",
       "</div>"
      ],
      "text/plain": [
       "                                                Text            Author_id  \\\n",
       "0  small number of boeing staff in chinas tianjin...           2344114254   \n",
       "1  ual52 n672ua boeing 767 322erw united airlines...  1306316999585394698   \n",
       "2  small number of boeing staff in chinas tianjin...  1333283589291601923   \n",
       "3  \\ng-bmra \\ndhk2134 \\ndhl air uk \\nunited kingd...  1404071707296534537   \n",
       "4  foreign military contact in london fir lagr834...  1147646662657097728   \n",
       "\n",
       "                                         Annotations      Polarity  \n",
       "0  [{'domain': {'id': '46', 'name': 'Brand Catego...      Negative  \n",
       "1  [{'domain': {'id': '45', 'name': 'Brand Vertic...  Undetermined  \n",
       "2  [{'domain': {'id': '47', 'name': 'Brand', 'des...      Negative  \n",
       "3  [{'domain': {'id': '3', 'name': 'TV Shows', 'd...  Undetermined  \n",
       "4  [{'domain': {'id': '47', 'name': 'Brand', 'des...      Negative  "
      ]
     },
     "execution_count": 7,
     "metadata": {},
     "output_type": "execute_result"
    }
   ],
   "source": [
    "def classify_tweets(tweets):\n",
    "    \"\"\"\n",
    "    For each row in tweets we classify the tweets text as positive, negative or undetermined.\n",
    "    The result of the classification is put in a new column \"Polarity\"\n",
    "    \n",
    "    tweets: tweets to classify\n",
    "    \"\"\"\n",
    "    output = tweets\n",
    "    for index, tweet in tweets.iterrows():\n",
    "        # get polarity and subjectivity of the tweet\n",
    "        text = tweet[\"Text\"]\n",
    "        sentiment = TextBlob(text).sentiment\n",
    "        polarity, subjectivity = sentiment.polarity, sentiment.subjectivity\n",
    "        \n",
    "        # classify tweet as negative / neutral / positive\n",
    "        output.loc[index,\"Polarity\"] = classify(polarity)\n",
    "    return output\n",
    "\n",
    "\n",
    "output = classify_tweets(cleaned_tweets)\n",
    "output.head()"
   ]
  },
  {
   "cell_type": "markdown",
   "metadata": {},
   "source": [
    "## 3 - Results visualization & interpretation\n",
    "#### Undetermined, positive and negative rates\n",
    "We get the undetermined, positive and negative rates among the pandas `DataFrame` and plot them to get an idea of the global sentiment."
   ]
  },
  {
   "cell_type": "code",
   "execution_count": 8,
   "metadata": {},
   "outputs": [
    {
     "data": {
      "image/png": "[encoded data removed]",
      "text/plain": [
       "<Figure size 432x288 with 1 Axes>"
      ]
     },
     "metadata": {
      "needs_background": "light"
     },
     "output_type": "display_data"
    }
   ],
   "source": [
    "def print_rates(data, plot = False):\n",
    "    undetermined_nb = 0\n",
    "    positive_nb = 0\n",
    "    negative_nb = 0\n",
    "        \n",
    "    for index, row in data.iterrows():\n",
    "        polarity = row[\"Polarity\"]\n",
    "        if polarity == \"Undetermined\":\n",
    "            undetermined_nb += 1\n",
    "        elif polarity == \"Positive\":\n",
    "            positive_nb += 1\n",
    "        elif polarity == \"Negative\":\n",
    "            negative_nb += 1\n",
    "                \n",
    "    nb_tweets = len(data)\n",
    "    pr = positive_nb / nb_tweets\n",
    "    nr = negative_nb / nb_tweets\n",
    "    ur = undetermined_nb / nb_tweets\n",
    "    \n",
    "    if plot:\n",
    "        plt.barh([\"Negative rate\", \"Undetermined rate\", \"Positive rate\"], [nr, ur, pr], color = \"orange\")\n",
    "        plt.show()\n",
    "    else:\n",
    "        print(f\"positive rate = {pr} \\t negative rate = {nr} \"\n",
    "          +f\" \\tundetermined rate = {ur}\")\n",
    "    \n",
    "    return pr, nr, ur\n",
    "    \n",
    "print_rates(output, plot = True)\n",
    "pass"
   ]
  },
  {
   "cell_type": "markdown",
   "metadata": {},
   "source": [
    "As we can see we have a high undetermined rate which is partly due to the short length of tweets which makes it harder for the model to predict anything. Also undetermined tweets can also be neutral.\n",
    "\n",
    "We can however see that the negative rate is higher than the positive one which is a good sign for the companie"
   ]
  },
  {
   "cell_type": "markdown",
   "metadata": {},
   "source": [
    "#### Plotting the frequencies of most common nouns\n",
    "It can be interesting to plot the frequencies of most common nouns in the text in order to draw some conclusion about which subject might cause a negative impact on the companie or which one might cause a positive one."
   ]
  },
  {
   "cell_type": "code",
   "execution_count": 9,
   "metadata": {},
   "outputs": [],
   "source": [
    "def sort_dic_value(dic):\n",
    "    \"\"\"\n",
    "        Sort dic by descending order of its values\n",
    "        \n",
    "        dic: dic to sort by descending order of values\n",
    "    \"\"\"\n",
    "    return dict(sorted(dic.items(), key=lambda item: item[1], reverse = True))\n",
    "    \n",
    "def plot_noun_frequencies(data, color = \"grey\", nb_plot = 20):\n",
    "    \"\"\"\n",
    "        Plot the frequencies of nb_plot most common nouns in the Text column of data\n",
    "        \n",
    "        data: pandas DataFrame, must contain a Text column\n",
    "        color: color of the horizontal bar plot\n",
    "        nb_plot: maximum frequencies to plot\n",
    "    \"\"\"\n",
    "    is_noun = lambda pos: pos[:2] == 'NN'\n",
    "    \n",
    "    # get occurence of each word\n",
    "    occurences = {}\n",
    "    nb_words = 0\n",
    "    for index, row in data.iterrows():\n",
    "        text = row[\"Text\"]\n",
    "        \n",
    "        # remove each word that isn't a noun\n",
    "        tokenized = nltk.word_tokenize(text)\n",
    "        text = \"\"\n",
    "        for (word, pos) in nltk.pos_tag(tokenized):\n",
    "            if is_noun(pos):\n",
    "                text += \" \" + word\n",
    "        \n",
    "        # put occurences in dictionnary\n",
    "        for word in text.split():\n",
    "            nb_words += 1\n",
    "            occurences[word] = occurences.get(word, 0) + 1\n",
    "    \n",
    "    # sort by value\n",
    "    occurences = sort_dic_value(occurences)\n",
    "    \n",
    "    nb_plot = min(nb_plot, len(occurences.keys()))\n",
    "    \n",
    "    normalize = lambda values, x: [i / x for i in values]\n",
    "    \n",
    "    plt.barh(list(occurences.keys())[:nb_plot], normalize(list(occurences.values())[:nb_plot], nb_words), color = color)\n",
    "    \n",
    "    plt.show()"
   ]
  },
  {
   "cell_type": "code",
   "execution_count": 10,
   "metadata": {},
   "outputs": [
    {
     "name": "stdout",
     "output_type": "stream",
     "text": [
      "Frequencies of most common nouns in positive tweets\n"
     ]
    },
    {
     "data": {
      "image/png": "[encoded data removed]",
      "text/plain": [
       "<Figure size 432x288 with 1 Axes>"
      ]
     },
     "metadata": {
      "needs_background": "light"
     },
     "output_type": "display_data"
    },
    {
     "name": "stdout",
     "output_type": "stream",
     "text": [
      "Frequencies of most common nouns in negative tweets\n"
     ]
    },
    {
     "data": {
      "image/png": "[encoded data removed]",
      "text/plain": [
       "<Figure size 432x288 with 1 Axes>"
      ]
     },
     "metadata": {
      "needs_background": "light"
     },
     "output_type": "display_data"
    },
    {
     "name": "stdout",
     "output_type": "stream",
     "text": [
      "Frequencies of most common nouns in neutral/untermined tweets\n"
     ]
    },
    {
     "data": {
      "image/png": "[encoded data removed]",
      "text/plain": [
       "<Figure size 432x288 with 1 Axes>"
      ]
     },
     "metadata": {
      "needs_background": "light"
     },
     "output_type": "display_data"
    }
   ],
   "source": [
    "positive_tweets = output[output[\"Polarity\"] == \"Positive\"]\n",
    "negative_tweets = output[output[\"Polarity\"] == \"Negative\"]\n",
    "undetermined_tweets = output[output[\"Polarity\"] == \"Undetermined\"]\n",
    "\n",
    "print(\"Frequencies of most common nouns in positive tweets\")\n",
    "plot_noun_frequencies(positive_tweets, color = \"green\")\n",
    "print(\"Frequencies of most common nouns in negative tweets\")\n",
    "plot_noun_frequencies(negative_tweets, color = \"red\")\n",
    "print(\"Frequencies of most common nouns in neutral/untermined tweets\")\n",
    "plot_noun_frequencies(undetermined_tweets, color = \"grey\")"
   ]
  },
  {
   "cell_type": "markdown",
   "metadata": {},
   "source": [
    "#### Sentence stemming\n",
    "In order to reduce the undetermined rate over tweets, we try to stem words (that is reduce each word to its root) to facilitate the classifiers job."
   ]
  },
  {
   "cell_type": "code",
   "execution_count": 11,
   "metadata": {},
   "outputs": [
    {
     "name": "stdout",
     "output_type": "stream",
     "text": [
      "positive rate = 0.21 \t negative rate = 0.27  \tundetermined rate = 0.52\n"
     ]
    },
    {
     "data": {
      "text/plain": [
       "(0.21, 0.27, 0.52)"
      ]
     },
     "execution_count": 11,
     "metadata": {},
     "output_type": "execute_result"
    }
   ],
   "source": [
    "def stem(text):\n",
    "    \"\"\"\n",
    "        sem the given text (reduce each word to its root)\n",
    "    \"\"\"\n",
    "    stemmer = PorterStemmer()\n",
    "    tokenized = word_tokenize(text)\n",
    "    text = \"\"\n",
    "    for word in tokenized:\n",
    "        text += \" \" + stemmer.stem(word)\n",
    "    return text\n",
    "\n",
    "def classify_tweets_stem(tweets):\n",
    "    output = tweets\n",
    "    for index, tweet in tweets.iterrows():\n",
    "        # get polarity and subjectivity of the tweet\n",
    "        text = tweet[\"Text\"]\n",
    "        stemmed_text = stem(text)\n",
    "        sentiment = TextBlob(stemmed_text).sentiment\n",
    "        polarity, subjectivity = sentiment.polarity, sentiment.subjectivity\n",
    "        \n",
    "        # classify tweet as negative / neutral / positive\n",
    "        output.loc[index,\"Polarity\"] = classify(polarity)\n",
    "    return output\n",
    "\n",
    "output2 = classify_tweets_stem(cleaned_tweets)\n",
    "print_rates(output2)"
   ]
  },
  {
   "cell_type": "markdown",
   "metadata": {},
   "source": [
    "The untermined rate is even higher than before, so our idea fails."
   ]
  },
  {
   "cell_type": "code",
   "execution_count": 12,
   "metadata": {},
   "outputs": [
    {
     "data": {
      "image/png": "[encoded data removed]",
      "text/plain": [
       "<Figure size 432x288 with 1 Axes>"
      ]
     },
     "metadata": {
      "needs_background": "light"
     },
     "output_type": "display_data"
    },
    {
     "data": {
      "image/png": "[encoded data removed]",
      "text/plain": [
       "<Figure size 432x288 with 1 Axes>"
      ]
     },
     "metadata": {
      "needs_background": "light"
     },
     "output_type": "display_data"
    },
    {
     "data": {
      "image/png": "[encoded data removed]",
      "text/plain": [
       "<Figure size 432x288 with 1 Axes>"
      ]
     },
     "metadata": {
      "needs_background": "light"
     },
     "output_type": "display_data"
    }
   ],
   "source": [
    "def plot_username_frequencies(data, nb_plot = 20, color = \"grey\"):\n",
    "    # get author_id occurences\n",
    "    occurences = {}\n",
    "    count = 0\n",
    "    for index, row in data.iterrows():\n",
    "        count += 1\n",
    "        author_id = row[\"Author_id\"]\n",
    "        occurences[author_id] = occurences.get(author_id, 0) + 1    \n",
    "    \n",
    "    # get nb_plot first elements of dic values and keys\n",
    "    occurences = sort_dic_value(occurences)\n",
    "    values_slice = list(occurences.values())[:nb_plot]\n",
    "    keys_slice = list(occurences.keys())[:nb_plot]\n",
    "    \n",
    "    # fetch names corresponding to ids\n",
    "    client = tweepy.Client(bearer_token = bearer_token)\n",
    "    users = client.get_users(ids = keys_slice).data\n",
    "    \n",
    "    names = [user.name for user in users]\n",
    "    \n",
    "    # normalize values\n",
    "    values_slice = [x / count for x in values_slice]\n",
    "    \n",
    "    # plot\n",
    "    plt.rc('axes', unicode_minus=False)\n",
    "    plt.barh(names, values_slice, color = color)\n",
    "    plt.show()\n",
    "    \n",
    "    \n",
    "plot_username_frequencies(output, color = \"orange\")\n",
    "plot_username_frequencies(positive_tweets, color = \"green\")\n",
    "plot_username_frequencies(negative_tweets, color = \"red\")"
   ]
  },
  {
   "cell_type": "code",
   "execution_count": 13,
   "metadata": {},
   "outputs": [
    {
     "name": "stdout",
     "output_type": "stream",
     "text": [
      "positive rate = 0.4 \t negative rate = 0.2  \tundetermined rate = 0.4\n",
      "positive rate = 0.3 \t negative rate = 0.3  \tundetermined rate = 0.4\n",
      "positive rate = 0.5 \t negative rate = 0.2  \tundetermined rate = 0.3\n",
      "positive rate = 0.2 \t negative rate = 0.4  \tundetermined rate = 0.4\n"
     ]
    },
    {
     "name": "stderr",
     "output_type": "stream",
     "text": [
      "No handles with labels found to put in legend.\n"
     ]
    },
    {
     "name": "stdout",
     "output_type": "stream",
     "text": [
      "positive rate = 0.7 \t negative rate = 0.2  \tundetermined rate = 0.1\n"
     ]
    },
    {
     "data": {
      "image/png": "[encoded data removed]",
      "text/plain": [
       "<Figure size 432x288 with 1 Axes>"
      ]
     },
     "metadata": {
      "needs_background": "light"
     },
     "output_type": "display_data"
    }
   ],
   "source": [
    "def plot_companies_sentiment():\n",
    "    companies = [\"Apple\", \"Microsoft\", \"Walmart\", \"Boeing\", \"Air France\"]\n",
    "    positions = [[-0.15, 0.85, 1.85, 2.85, 3.85], \n",
    "                 [-0.05, 0.95, 1.95, 2.95, 3.95], \n",
    "                 [0.05, 1.05, 2.05, 3.05, 4.05]]\n",
    "    \n",
    "    width = 0.1\n",
    "    \n",
    "    dic = {\"nr\": [], \"ur\": [], \"pr\": []}\n",
    "    \n",
    "    for companie in companies:\n",
    "        # fetch tweets\n",
    "        tweets = fetch_tweets(10, companie)\n",
    "        \n",
    "        # clean tweets\n",
    "        cleaned_tweets = clean_tweets(tweets)\n",
    "        \n",
    "        # classify tweets\n",
    "        output = classify_tweets(cleaned_tweets)\n",
    "        \n",
    "        pr, nr, ur = print_rates(output)\n",
    "        dic[\"nr\"].append(nr)\n",
    "        dic[\"ur\"].append(ur)\n",
    "        dic[\"pr\"].append(pr)\n",
    "        \n",
    "        \n",
    "    fig, ax = plt.subplots()\n",
    "    fig.canvas.draw()\n",
    "    plt.bar(positions[0], dic[\"nr\"], width = width, color = \"red\")\n",
    "    plt.bar(positions[1], dic[\"ur\"], width = width, color = \"grey\")\n",
    "    plt.bar(positions[2], dic[\"pr\"], width = width, color = \"green\")\n",
    "    ax.legend()\n",
    "    \n",
    "    companies.insert(0, \"Apple\")\n",
    "    ax.set_xticklabels(companies)\n",
    "    plt.show()\n",
    "\n",
    "plot_companies_sentiment()"
   ]
  },
  {
   "cell_type": "code",
   "execution_count": null,
   "metadata": {},
   "outputs": [],
   "source": []
  }
 ],
 "metadata": {
  "kernelspec": {
   "display_name": "Python 3",
   "language": "python",
   "name": "python3"
  },
  "language_info": {
   "codemirror_mode": {
    "name": "ipython",
    "version": 3
   },
   "file_extension": ".py",
   "mimetype": "text/x-python",
   "name": "python",
   "nbconvert_exporter": "python",
   "pygments_lexer": "ipython3",
   "version": "3.8.3"
  }
 },
 "nbformat": 4,
 "nbformat_minor": 4
}
